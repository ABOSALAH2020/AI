{
  "nbformat": 4,
  "nbformat_minor": 0,
  "metadata": {
    "colab": {
      "provenance": [],
      "authorship_tag": "ABX9TyPtdey0t2Athfy4BvaGNU7C",
      "include_colab_link": true
    },
    "kernelspec": {
      "name": "python3",
      "display_name": "Python 3"
    },
    "language_info": {
      "name": "python"
    },
    "accelerator": "GPU",
    "gpuClass": "standard"
  },
  "cells": [
    {
      "cell_type": "markdown",
      "metadata": {
        "id": "view-in-github",
        "colab_type": "text"
      },
      "source": [
        "<a href=\"https://colab.research.google.com/github/ABOSALAH2020/AI/blob/main/Time_Series_Prediction_using_LSTM_RNN.ipynb\" target=\"_parent\"><img src=\"https://colab.research.google.com/assets/colab-badge.svg\" alt=\"Open In Colab\"/></a>"
      ]
    },
    {
      "cell_type": "markdown",
      "source": [
        "# **RNN**"
      ],
      "metadata": {
        "id": "qfa1zoMTk14y"
      }
    },
    {
      "cell_type": "code",
      "source": [
        "from keras.preprocessing import sequence\n",
        "from keras.models import Sequential\n",
        "from keras.layers import Dense, Embedding\n",
        "from keras.layers import LSTM\n",
        "from keras.datasets import imdb"
      ],
      "metadata": {
        "id": "9r7XA1BPlESm"
      },
      "execution_count": 1,
      "outputs": []
    },
    {
      "cell_type": "markdown",
      "source": [
        "## Load data"
      ],
      "metadata": {
        "id": "9ZQxsIn7blFf"
      }
    },
    {
      "cell_type": "code",
      "source": [
        "(x_train, y_train), (x_test, y_test) = imdb.load_data(num_words=2000)\n"
      ],
      "metadata": {
        "id": "3LTYLldrlQ6w",
        "colab": {
          "base_uri": "https://localhost:8080/"
        },
        "outputId": "8b5116b5-6270-4204-b9f3-dba3de1a8e29"
      },
      "execution_count": 2,
      "outputs": [
        {
          "output_type": "stream",
          "name": "stdout",
          "text": [
            "Downloading data from https://storage.googleapis.com/tensorflow/tf-keras-datasets/imdb.npz\n",
            "17465344/17464789 [==============================] - 0s 0us/step\n",
            "17473536/17464789 [==============================] - 0s 0us/step\n"
          ]
        }
      ]
    },
    {
      "cell_type": "code",
      "source": [],
      "metadata": {
        "id": "BRJn6JFUbf9o"
      },
      "execution_count": null,
      "outputs": []
    },
    {
      "cell_type": "markdown",
      "source": [
        "## Process the data"
      ],
      "metadata": {
        "id": "HGX_Zontbn1f"
      }
    },
    {
      "cell_type": "code",
      "source": [
        "x_train = sequence.pad_sequences(x_train, maxlen=80)\n",
        "x_test = sequence.pad_sequences(x_test, maxlen=80)\n"
      ],
      "metadata": {
        "id": "7l27uFBDbs4G"
      },
      "execution_count": 3,
      "outputs": []
    },
    {
      "cell_type": "markdown",
      "source": [
        "## Create the model"
      ],
      "metadata": {
        "id": "0jr3EzK9bx4T"
      }
    },
    {
      "cell_type": "code",
      "source": [
        "model = Sequential()\n",
        "model.add(Embedding(2000, 128))\n",
        "model.add(LSTM(128, dropout=0.2, recurrent_dropout=0.2))\n",
        "model.add(Dense(1, activation='sigmoid'))"
      ],
      "metadata": {
        "colab": {
          "base_uri": "https://localhost:8080/"
        },
        "id": "jh1lC4LvbxG2",
        "outputId": "f8c6055b-80ea-4c29-fab0-090661df74bc"
      },
      "execution_count": 4,
      "outputs": [
        {
          "output_type": "stream",
          "name": "stderr",
          "text": [
            "WARNING:tensorflow:Layer lstm will not use cuDNN kernels since it doesn't meet the criteria. It will use a generic GPU kernel as fallback when running on GPU.\n"
          ]
        }
      ]
    },
    {
      "cell_type": "markdown",
      "source": [
        "## Compile the model"
      ],
      "metadata": {
        "id": "Dmvht3gCb-J8"
      }
    },
    {
      "cell_type": "code",
      "source": [
        "model.compile(loss='binary_crossentropy',\n",
        " optimizer='adam',\n",
        " metrics=['accuracy'])\n"
      ],
      "metadata": {
        "id": "kQTdqULgb2MS"
      },
      "execution_count": 5,
      "outputs": []
    },
    {
      "cell_type": "markdown",
      "source": [
        "## Train the model"
      ],
      "metadata": {
        "id": "etTqDCAPcFQn"
      }
    },
    {
      "cell_type": "code",
      "source": [
        "model.fit(x_train, y_train,\n",
        " batch_size=512,\n",
        " epochs=15,\n",
        " validation_data=(x_test, y_test))\n"
      ],
      "metadata": {
        "colab": {
          "base_uri": "https://localhost:8080/"
        },
        "id": "FNNoeS4qcCjN",
        "outputId": "9f5b9634-6e1e-4cde-8d73-147967c5c98d"
      },
      "execution_count": 7,
      "outputs": [
        {
          "output_type": "stream",
          "name": "stdout",
          "text": [
            "Epoch 1/15\n",
            "49/49 [==============================] - 21s 426ms/step - loss: 0.3973 - accuracy: 0.8219 - val_loss: 0.3902 - val_accuracy: 0.8243\n",
            "Epoch 2/15\n",
            "49/49 [==============================] - 19s 396ms/step - loss: 0.3603 - accuracy: 0.8399 - val_loss: 0.3803 - val_accuracy: 0.8301\n",
            "Epoch 3/15\n",
            "49/49 [==============================] - 20s 405ms/step - loss: 0.3447 - accuracy: 0.8473 - val_loss: 0.3701 - val_accuracy: 0.8340\n",
            "Epoch 4/15\n",
            "49/49 [==============================] - 19s 397ms/step - loss: 0.3328 - accuracy: 0.8552 - val_loss: 0.3672 - val_accuracy: 0.8356\n",
            "Epoch 5/15\n",
            "49/49 [==============================] - 19s 393ms/step - loss: 0.3213 - accuracy: 0.8602 - val_loss: 0.3615 - val_accuracy: 0.8398\n",
            "Epoch 6/15\n",
            "49/49 [==============================] - 19s 397ms/step - loss: 0.3125 - accuracy: 0.8640 - val_loss: 0.3723 - val_accuracy: 0.8344\n",
            "Epoch 7/15\n",
            "49/49 [==============================] - 19s 399ms/step - loss: 0.3003 - accuracy: 0.8691 - val_loss: 0.3688 - val_accuracy: 0.8348\n",
            "Epoch 8/15\n",
            "49/49 [==============================] - 19s 393ms/step - loss: 0.2906 - accuracy: 0.8740 - val_loss: 0.3656 - val_accuracy: 0.8354\n",
            "Epoch 9/15\n",
            "49/49 [==============================] - 20s 411ms/step - loss: 0.2868 - accuracy: 0.8762 - val_loss: 0.3692 - val_accuracy: 0.8332\n",
            "Epoch 10/15\n",
            "49/49 [==============================] - 19s 397ms/step - loss: 0.2719 - accuracy: 0.8820 - val_loss: 0.3934 - val_accuracy: 0.8336\n",
            "Epoch 11/15\n",
            "49/49 [==============================] - 19s 396ms/step - loss: 0.2610 - accuracy: 0.8884 - val_loss: 0.4036 - val_accuracy: 0.8298\n",
            "Epoch 12/15\n",
            "49/49 [==============================] - 19s 387ms/step - loss: 0.2561 - accuracy: 0.8906 - val_loss: 0.3804 - val_accuracy: 0.8327\n",
            "Epoch 13/15\n",
            "49/49 [==============================] - 20s 399ms/step - loss: 0.2482 - accuracy: 0.8918 - val_loss: 0.4587 - val_accuracy: 0.8252\n",
            "Epoch 14/15\n",
            "49/49 [==============================] - 19s 389ms/step - loss: 0.2394 - accuracy: 0.8967 - val_loss: 0.4104 - val_accuracy: 0.8288\n",
            "Epoch 15/15\n",
            "49/49 [==============================] - 19s 398ms/step - loss: 0.2360 - accuracy: 0.8981 - val_loss: 0.3966 - val_accuracy: 0.8276\n"
          ]
        },
        {
          "output_type": "execute_result",
          "data": {
            "text/plain": [
              "<keras.callbacks.History at 0x7f79a6d554d0>"
            ]
          },
          "metadata": {},
          "execution_count": 7
        }
      ]
    },
    {
      "cell_type": "markdown",
      "source": [
        "## Evaluate the model\n"
      ],
      "metadata": {
        "id": "PhEa1JB_d7ij"
      }
    },
    {
      "cell_type": "code",
      "source": [
        "score, acc = model.evaluate(x_test, y_test,\n",
        " batch_size=32)\n",
        "print('Test score:', score)\n",
        "print('Test accuracy:', acc)\n"
      ],
      "metadata": {
        "colab": {
          "base_uri": "https://localhost:8080/"
        },
        "id": "ztlKc2GicPjl",
        "outputId": "b02b0784-063a-436c-f361-f2333f0ed4ad"
      },
      "execution_count": 8,
      "outputs": [
        {
          "output_type": "stream",
          "name": "stdout",
          "text": [
            "782/782 [==============================] - 19s 24ms/step - loss: 0.3966 - accuracy: 0.8276\n",
            "Test score: 0.39656543731689453\n",
            "Test accuracy: 0.8276000022888184\n"
          ]
        }
      ]
    },
    {
      "cell_type": "code",
      "source": [],
      "metadata": {
        "id": "9EP5TYS-eDDo"
      },
      "execution_count": null,
      "outputs": []
    }
  ]
}